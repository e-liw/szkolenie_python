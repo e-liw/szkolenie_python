{
  "nbformat": 4,
  "nbformat_minor": 0,
  "metadata": {
    "colab": {
      "name": "Untitled1.ipynb",
      "provenance": [],
      "collapsed_sections": [],
      "authorship_tag": "ABX9TyORy5rVBHF85CPC5LbxeHaE",
      "include_colab_link": true
    },
    "kernelspec": {
      "name": "python3",
      "display_name": "Python 3"
    },
    "language_info": {
      "name": "python"
    }
  },
  "cells": [
    {
      "cell_type": "markdown",
      "metadata": {
        "id": "view-in-github",
        "colab_type": "text"
      },
      "source": [
        "<a href=\"https://colab.research.google.com/github/e-liw/szkolenie_python/blob/main/Tensorflow_basic.ipynb\" target=\"_parent\"><img src=\"https://colab.research.google.com/assets/colab-badge.svg\" alt=\"Open In Colab\"/></a>"
      ]
    },
    {
      "cell_type": "code",
      "execution_count": 1,
      "metadata": {
        "colab": {
          "base_uri": "https://localhost:8080/"
        },
        "id": "d6YUmmS5cCTZ",
        "outputId": "1240f6d6-fe12-43b1-913a-23785efff82a"
      },
      "outputs": [
        {
          "output_type": "stream",
          "name": "stdout",
          "text": [
            "Wersja TF: 2.7.0\n"
          ]
        }
      ],
      "source": [
        "import tensorflow as tf\n",
        "print(f\"Wersja TF: {tf.__version__}\")\n",
        "#pismo odręczne\n",
        "mnist = tf.keras.datasets.mnist\n"
      ]
    },
    {
      "cell_type": "code",
      "source": [
        "#żródło danych zeskalowane, są standarty\n",
        "(x_train,y_train),(x_test,y_test) = mnist.load_data()\n",
        "x_train,x_test = x_train/255.0,x_test/255.0\n"
      ],
      "metadata": {
        "colab": {
          "base_uri": "https://localhost:8080/"
        },
        "id": "CW5WIMmocVkG",
        "outputId": "36f76214-38ed-41e3-b5ea-fbe1194fb853"
      },
      "execution_count": 2,
      "outputs": [
        {
          "output_type": "stream",
          "name": "stdout",
          "text": [
            "Downloading data from https://storage.googleapis.com/tensorflow/tf-keras-datasets/mnist.npz\n",
            "11493376/11490434 [==============================] - 0s 0us/step\n",
            "11501568/11490434 [==============================] - 0s 0us/step\n"
          ]
        }
      ]
    },
    {
      "cell_type": "code",
      "source": [
        "#budowa modelu\n",
        "model = tf.keras.models.Sequential([\n",
        "                            tf.keras.layers.Flatten(input_shape=(28,28)), #dane wejściowe\n",
        "                            tf.keras.layers.Dense(128,activation=\"relu\"), # funkcja aktywacji\n",
        "                            tf.keras.layers.Dropout(0.2), #nieobowiązkowy parametr, funkcja odrzutu\n",
        "                            tf.keras.layers.Dense(10) # gęstość ostatniej warstwy\n",
        "])\n",
        "#predykcja\n",
        "predictions = model(x_train[:1]).numpy()\n",
        "predictions\n",
        "tf.nn.softmax(predictions).numpy() # funkcja softmax\n",
        "loss_fn = tf.keras.losses.SparseCategoricalCrossentropy(from_logits=True) #krzyżowa\n",
        "loss_fn(y_train[:1],predictions).numpy()\n",
        "model.compile(optimizer='adam', #kompilacja\n",
        "              loss=loss_fn,\n",
        "              metrics=['accuracy'])\n"
      ],
      "metadata": {
        "id": "y5kL_bLPfHTE"
      },
      "execution_count": 8,
      "outputs": []
    },
    {
      "cell_type": "code",
      "source": [
        "model.fit(x_train, y_train, epochs=5) # trenowanie"
      ],
      "metadata": {
        "colab": {
          "base_uri": "https://localhost:8080/"
        },
        "id": "d6ARKkMGfdcP",
        "outputId": "c4765ea4-81e8-455b-f553-52c456931117"
      },
      "execution_count": 9,
      "outputs": [
        {
          "output_type": "stream",
          "name": "stdout",
          "text": [
            "Epoch 1/5\n",
            "1875/1875 [==============================] - 6s 3ms/step - loss: 0.2938 - accuracy: 0.9141\n",
            "Epoch 2/5\n",
            "1875/1875 [==============================] - 5s 3ms/step - loss: 0.1450 - accuracy: 0.9572\n",
            "Epoch 3/5\n",
            "1875/1875 [==============================] - 5s 3ms/step - loss: 0.1071 - accuracy: 0.9680\n",
            "Epoch 4/5\n",
            "1875/1875 [==============================] - 5s 3ms/step - loss: 0.0869 - accuracy: 0.9728\n",
            "Epoch 5/5\n",
            "1875/1875 [==============================] - 5s 3ms/step - loss: 0.0761 - accuracy: 0.9749\n"
          ]
        },
        {
          "output_type": "execute_result",
          "data": {
            "text/plain": [
              "<keras.callbacks.History at 0x7f9a7d338290>"
            ]
          },
          "metadata": {},
          "execution_count": 9
        }
      ]
    },
    {
      "cell_type": "code",
      "source": [
        "#ewaluacja modelu\n",
        "model.evaluate(x_test,y_test,verbose=2)"
      ],
      "metadata": {
        "colab": {
          "base_uri": "https://localhost:8080/"
        },
        "id": "VFNAEkJgf1bR",
        "outputId": "1504dd54-2524-4dfd-8ffa-ffe573f157cf"
      },
      "execution_count": 10,
      "outputs": [
        {
          "output_type": "stream",
          "name": "stdout",
          "text": [
            "313/313 - 1s - loss: 0.0774 - accuracy: 0.9763 - 517ms/epoch - 2ms/step\n"
          ]
        },
        {
          "output_type": "execute_result",
          "data": {
            "text/plain": [
              "[0.07744558900594711, 0.9763000011444092]"
            ]
          },
          "metadata": {},
          "execution_count": 10
        }
      ]
    },
    {
      "cell_type": "code",
      "source": [
        "#z jakimi prawdopodobieństwami widzi odręczny znak\n",
        "probability_model = tf.keras.Sequential([model,\n",
        "                                         tf.keras.layers.Softmax(0)])\n",
        "probability_model(x_test[:5])"
      ],
      "metadata": {
        "colab": {
          "base_uri": "https://localhost:8080/"
        },
        "id": "jCu9X899gJ-P",
        "outputId": "fd21fe04-21d5-40e2-d445-e590c61da11c"
      },
      "execution_count": 11,
      "outputs": [
        {
          "output_type": "execute_result",
          "data": {
            "text/plain": [
              "<tf.Tensor: shape=(5, 10), dtype=float32, numpy=\n",
              "array([[1.2139168e-06, 4.3906292e-07, 1.4969188e-06, 5.1798236e-01,\n",
              "        3.1562619e-10, 3.7508863e-03, 6.1041771e-07, 9.9996352e-01,\n",
              "        6.8223447e-04, 1.8093270e-01],\n",
              "       [6.0461366e-07, 1.0705460e-01, 9.9997520e-01, 4.6810359e-01,\n",
              "        2.0522032e-12, 9.3889880e-01, 1.1274620e-01, 1.4778808e-12,\n",
              "        9.4265336e-01, 1.3832338e-08],\n",
              "       [1.4247683e-08, 8.9294475e-01, 1.9274995e-07, 1.3372231e-02,\n",
              "        5.3224021e-06, 1.2322016e-03, 4.7185257e-02, 1.2920653e-05,\n",
              "        5.2021079e-02, 2.7837857e-04],\n",
              "       [9.9999797e-01, 1.9505189e-08, 2.2684806e-05, 3.4031997e-04,\n",
              "        1.3341163e-08, 5.4435223e-02, 2.3090976e-01, 3.6377248e-06,\n",
              "        2.6328068e-03, 4.8305336e-02],\n",
              "       [2.3748744e-07, 1.7095016e-07, 3.8663666e-07, 2.0157464e-04,\n",
              "        9.9999464e-01, 1.6829723e-03, 6.0915822e-01, 1.9881649e-05,\n",
              "        2.0106321e-03, 7.7048361e-01]], dtype=float32)>"
            ]
          },
          "metadata": {},
          "execution_count": 11
        }
      ]
    }
  ]
}