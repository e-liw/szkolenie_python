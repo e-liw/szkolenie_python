{
  "nbformat": 4,
  "nbformat_minor": 0,
  "metadata": {
    "colab": {
      "name": "Untitled5.ipynb",
      "provenance": [],
      "authorship_tag": "ABX9TyOCyApeG8EJnLgRQn2R8P51",
      "include_colab_link": true
    },
    "kernelspec": {
      "name": "python3",
      "display_name": "Python 3"
    },
    "language_info": {
      "name": "python"
    }
  },
  "cells": [
    {
      "cell_type": "markdown",
      "metadata": {
        "id": "view-in-github",
        "colab_type": "text"
      },
      "source": [
        "<a href=\"https://colab.research.google.com/github/e-liw/szkolenie_python/blob/main/Faces.ipynb\" target=\"_parent\"><img src=\"https://colab.research.google.com/assets/colab-badge.svg\" alt=\"Open In Colab\"/></a>"
      ]
    },
    {
      "cell_type": "code",
      "execution_count": 1,
      "metadata": {
        "id": "uEbtF7_h_wwv"
      },
      "outputs": [],
      "source": [
        "from sklearn.datasets import fetch_olivetti_faces\n",
        "from sklearn.ensemble import RandomForestClassifier\n",
        "import time\n",
        "import matplotlib.pyplot as plt\n"
      ]
    },
    {
      "cell_type": "code",
      "source": [
        "n_jobs = -1\n",
        "data = fetch_olivetti_faces()\n",
        "X,y = data.data, data.target\n",
        "\n",
        "mask = y<5\n",
        "X = X[mask]\n",
        "y = y[mask]\n"
      ],
      "metadata": {
        "colab": {
          "base_uri": "https://localhost:8080/"
        },
        "id": "dZvvx0S3AdMe",
        "outputId": "965bcdaf-8af6-4f3d-f0f8-adfe2653f236"
      },
      "execution_count": 2,
      "outputs": [
        {
          "output_type": "stream",
          "name": "stdout",
          "text": [
            "downloading Olivetti faces from https://ndownloader.figshare.com/files/5976027 to /root/scikit_learn_data\n"
          ]
        }
      ]
    },
    {
      "cell_type": "code",
      "source": [
        "forest = RandomForestClassifier(n_estimators=750, #liczba drzew\n",
        "                                n_jobs=n_jobs,\n",
        "                                random_state=42\n",
        ")\n",
        "forest.fit(X,y)\n"
      ],
      "metadata": {
        "colab": {
          "base_uri": "https://localhost:8080/"
        },
        "id": "VJr_lORoBJJk",
        "outputId": "5186bdf8-01a7-4c19-ad58-025337136759"
      },
      "execution_count": 3,
      "outputs": [
        {
          "output_type": "execute_result",
          "data": {
            "text/plain": [
              "RandomForestClassifier(n_estimators=750, n_jobs=-1, random_state=42)"
            ]
          },
          "metadata": {},
          "execution_count": 3
        }
      ]
    },
    {
      "cell_type": "code",
      "source": [
        "#czas analizy obrazu\n",
        "start_time = time.time()\n",
        "img_shape = data.images[0].shape\n",
        "importances = forest.feature_importances_\n",
        "elapsed_time = time.time() - start_time"
      ],
      "metadata": {
        "id": "TCQ4Bs2iBvmI"
      },
      "execution_count": 4,
      "outputs": []
    },
    {
      "cell_type": "code",
      "source": [
        "print(f\"Czas obliczenia istotnych pikseli: {elapsed_time:.3f} sekund\")\n",
        "img_reshaped = importances.reshape(img_shape)\n",
        "plt.matshow(img_reshaped, cmap = plt.cm.hot)\n",
        "plt.title(\"Istotne piksele obliczone przy uzyciu algorytmu RF z wartościami zanieczyszczonymi\")\n",
        "plt.colorbar()\n",
        "plt.show()"
      ],
      "metadata": {
        "colab": {
          "base_uri": "https://localhost:8080/",
          "height": 281
        },
        "id": "ns3jYea5CL50",
        "outputId": "1b3e75b6-9431-4dc1-8eaa-a891425fdfed"
      },
      "execution_count": 5,
      "outputs": [
        {
          "output_type": "stream",
          "name": "stdout",
          "text": [
            "Czas obliczenia istotnych pikseli: 0.229 sekund\n"
          ]
        },
        {
          "output_type": "display_data",
          "data": {
            "image/png": "[encoded data removed]",
            "text/plain": [
              "<Figure size 288x288 with 2 Axes>"
            ]
          },
          "metadata": {
            "needs_background": "light"
          }
        }
      ]
    }
  ]
}